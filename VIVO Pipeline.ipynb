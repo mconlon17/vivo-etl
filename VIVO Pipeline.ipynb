{
 "cells": [
  {
   "cell_type": "markdown",
   "metadata": {},
   "source": [
    "# VIVO Pipeline\n",
    "\n",
    "Given a spreadsheet, create VIVO data and load to VIVO.  Do everything responsibly:\n",
    "\n",
    "1. Use PythonAnywhere APIs to fetch elements from the \"world\" that are identified -- MeSH terms, dates, pubmed,\n",
    "DOI, etc, etc.  Convert to JSON and build a hierarchical document as needed -- a person may have many papers.\n",
    "Support some standard entity spreadsheets-- person, org -- perhaps everything starts with these two.\n",
    "1. Transform the JSON to TTL using RMLMapper.\n",
    "1. Check the TTL using SHACL constraints.  Add inferred helper properties (authorOf, counts of things)\n",
    "1. VIVO IRI rewriting.  Query a VIVO to get good IRIs.  Rewrite the TTL with good IRI.\n",
    "1. Robot reasoning and reduce for sound ontological assertions.\n",
    "1. Data is loaded to VIVO\n",
    "\n",
    "*Voila*.  VIVO data.\n",
    "\n",
    "Some principles:\n",
    "\n",
    "1. Don't over engineer (don't assume, don't limit, don't require, don't force)\n",
    "1. Show the human where the error(s) are\n",
    "\n",
    "Some must haves:\n",
    "1. Spreadsheet must be a TSV (tab separated values).  Commas often appear data values and cannot be used as a field separator.\n",
    "1. Allow multiple values in a single cell with an in-cell separator (semi-colon).  That way we only need one spreadsheet cell for a person's pubs, \n",
    "and one for their research interests.\n",
    "1. Allow multi-valued values using a secondary separator (pipe \"|\").  An example is education.  Using the semicolon, we can separate one degree from another.  Using the pipe,\n",
    "we can separate the values for a degree: date, degree, topic, awarder\n",
    "\n",
    "    \n",
    "## Todo\n",
    "1. Simplify -- does the JSON make sense?  Can we remove the upper layer and just get to many small blocks about the person?\n",
    "1. Go deeper -- add more processing steps.  Fetch steps, RMLMapper steps.\n",
    "1. Go wider -- add more attributes and sub-attributes\n",
    "1. Review approach with M3C group."
   ]
  },
  {
   "cell_type": "markdown",
   "metadata": {},
   "source": [
    "    \n",
    "## Attributes\n",
    "\n",
    "Here's what we have so far.  Some attributes have sub-attributes\n",
    "\n",
    "1. orcid\n",
    "1. department\n",
    "1. name\n",
    "1. position\n",
    "    1. start\n",
    "    1. end\n",
    "    1. title\n",
    "    1. unit\n",
    "1. education\n",
    "    1. date\n",
    "    1. degree\n",
    "    1. topic\n",
    "    1. awarder\n",
    "1. overview\n",
    "1. photo\n",
    "1. email\n",
    "1. local_id\n",
    "1. comment\n",
    "1. grant\n",
    "    1. date\n",
    "    1. id\n",
    "    1. awarder\n",
    "    1. amount\n",
    "1. teaching\n",
    "    1. date\n",
    "    1. course_id\n",
    "1. address\n",
    "    1. kind\n",
    "    1. address1\n",
    "    1. address2\n",
    "    1. city\n",
    "    1. state\n",
    "    1. postal code\n",
    "    1. country\n",
    "1. topic\n",
    "1. title\n",
    "1. phone\n",
    "    1. kind\n",
    "    1. number\n",
    "1. website\n",
    "    1. kind\n",
    "    1. url\n",
    "1. language\n",
    "    1. capability\n",
    "    1. iso639"
   ]
  },
  {
   "cell_type": "markdown",
   "metadata": {},
   "source": [
    "## 1. From a spreadsheet, fetch public data from open APIs; return JSON\n",
    "\n",
    "From a spreadsheet of people -- one row per person, create a JSON object for further processing.  The spreadsheet can may multiple values in every cell -- a person \n",
    "may have more than one name, more than one phone number, etc.  further processing may flag some multiple values as errors.  Values may have sub-values.  Teaching,\n",
    "for example has two sub-values -- the date of the start of the course, and the identifier (local) of the course.  \n",
    "\n",
    "Then the JSON is processed, looking up each of the values using a standard set of APIs for VIVO.  These APIs provide details about the things referenced in the \n",
    "spreadsheet data.  The VIVO APIs hide processing details of the data sources, and standardize each, \n",
    "producing simple JSON for subsequent processing."
   ]
  },
  {
   "cell_type": "code",
   "execution_count": 5,
   "metadata": {},
   "outputs": [
    {
     "name": "stdout",
     "output_type": "stream",
     "text": [
      "The autoreload extension is already loaded. To reload it, use:\n",
      "  %reload_ext autoreload\n",
      "{\n",
      "    \"orcid\": [\n",
      "        {\n",
      "            \"orcid\": \"1234-3342-2221-2024\"\n",
      "        }\n",
      "    ],\n",
      "    \"name\": [\n",
      "        {\n",
      "            \"name\": \"Amir Amarbad\"\n",
      "        }\n",
      "    ],\n",
      "    \"department\": [\n",
      "        {\n",
      "            \"department\": \"French\"\n",
      "        }\n",
      "    ],\n",
      "    \"pmid\": [\n",
      "        {\n",
      "            \"pmid\": \"00400\"\n",
      "        },\n",
      "        {\n",
      "            \"pmid\": \"300033\"\n",
      "        }\n",
      "    ],\n",
      "    \"position\": [],\n",
      "    \"education\": [],\n",
      "    \"teaching\": [\n",
      "        {\n",
      "            \"teaching\": {\n",
      "                \"date\": \"201506\",\n",
      "                \"course_id\": \"ENC3114\"\n",
      "            }\n",
      "        },\n",
      "        {\n",
      "            \"teaching\": {\n",
      "                \"date\": \"20159\",\n",
      "                \"course_id\": \"ENC3114\"\n",
      "            }\n",
      "        },\n",
      "        {\n",
      "            \"teaching\": {\n",
      "                \"date\": \"201601\",\n",
      "                \"course_id\": \"ENC2021\"\n",
      "            }\n",
      "        },\n",
      "        {\n",
      "            \"teaching\": {\n",
      "                \"date\": \"201601\",\n",
      "                \"course_id\": \"ENC2024\"\n",
      "            }\n",
      "        },\n",
      "        {\n",
      "            \"teaching\": {\n",
      "                \"date\": \"201601\",\n",
      "                \"course_id\": \"ENC4101\"\n",
      "            }\n",
      "        }\n",
      "    ],\n",
      "    \"overview\": [],\n",
      "    \"photo\": [],\n",
      "    \"email\": [],\n",
      "    \"grant\": [],\n",
      "    \"address\": [\n",
      "        {\n",
      "            \"address\": {\n",
      "                \"kind\": \"business\",\n",
      "                \"address1\": \"240 maple street\",\n",
      "                \"address2\": \"\",\n",
      "                \"city\": \"Gainesville\",\n",
      "                \"state\": \"Florida\",\n",
      "                \"zip\": \"32653\",\n",
      "                \"country\": \"usa\"\n",
      "            }\n",
      "        },\n",
      "        {\n",
      "            \"address\": {\n",
      "                \"kind\": \"shipping\",\n",
      "                \"address1\": \"1600 SW Archer Road\",\n",
      "                \"address2\": \"Attn: M. Sherborne\",\n",
      "                \"city\": \"Gainesville\",\n",
      "                \"state\": \"FL\",\n",
      "                \"zip\": \"32604\",\n",
      "                \"country\": \"USA\"\n",
      "            }\n",
      "        }\n",
      "    ],\n",
      "    \"topic\": [\n",
      "        {\n",
      "            \"topic\": \"French Language\"\n",
      "        }\n",
      "    ],\n",
      "    \"phone\": [],\n",
      "    \"website\": [],\n",
      "    \"title\": [],\n",
      "    \"language\": [\n",
      "        {\n",
      "            \"language\": {\n",
      "                \"capability\": \"c2\",\n",
      "                \"iso639\": \"en\"\n",
      "            }\n",
      "        },\n",
      "        {\n",
      "            \"language\": {\n",
      "                \"capability\": \"b1\",\n",
      "                \"iso639\": \"fr\"\n",
      "            }\n",
      "        }\n",
      "    ],\n",
      "    \"comment\": [\n",
      "        {\n",
      "            \"comment\": \"Add more data\"\n",
      "        }\n",
      "    ]\n",
      "}\n"
     ]
    }
   ],
   "source": [
    "%load_ext autoreload\n",
    "%autoreload 2\n",
    "import csv\n",
    "import extract\n",
    "import json\n",
    "input_filename = \"people.tsv\"\n",
    "data = []\n",
    "header = list()\n",
    "with open(input_filename, 'r') as csvfile:\n",
    "    reader = csv.reader(csvfile, delimiter='\\t', quotechar='\"')\n",
    "    for row in reader:\n",
    "        if len(header) == 0:\n",
    "            header = row\n",
    "        else:\n",
    "            data.append(dict(zip(header, row)))\n",
    "for row in data:\n",
    "    for key,cell in row.items():\n",
    "        if cell == \"\":\n",
    "            row[key] = list()\n",
    "        else:\n",
    "            row[key] = cell.split(\";\")\n",
    "            cell_list = [getattr(extract, key)(val) for val in row[key]]\n",
    "            row[key] = cell_list      \n",
    "print(json.dumps(data[2], indent=4))"
   ]
  },
  {
   "cell_type": "markdown",
   "metadata": {},
   "source": [
    "## 2. RMLMapper makes first version of triples in TTL"
   ]
  },
  {
   "cell_type": "code",
   "execution_count": 4,
   "metadata": {},
   "outputs": [
    {
     "data": {
      "text/plain": [
       "0"
      ]
     },
     "execution_count": 4,
     "metadata": {},
     "output_type": "execute_result"
    }
   ],
   "source": [
    "import os\n",
    "os.system(\"rmlmapper -m person-map.ttl -o people.ttl -s turtle\")\n",
    "# sed <people.ttl >temp.ttl '10,$s/<http:\\/\\/vivo.ufl.edu\\/individual\\/\\(.*\\)>/data:\\1/'\n",
    "os.system(\"< people.ttl python3 improve_rdf.py\")"
   ]
  },
  {
   "cell_type": "markdown",
   "metadata": {},
   "source": [
    "## 3. SHACL is used to test the TTL against a series of validations"
   ]
  },
  {
   "cell_type": "code",
   "execution_count": null,
   "metadata": {},
   "outputs": [],
   "source": []
  },
  {
   "cell_type": "markdown",
   "metadata": {},
   "source": [
    "## 4. QUERY VIVO to rewrite URI as needed"
   ]
  },
  {
   "cell_type": "code",
   "execution_count": null,
   "metadata": {},
   "outputs": [],
   "source": []
  },
  {
   "cell_type": "markdown",
   "metadata": {},
   "source": [
    "## 5. Robot is used to infer triples and reduce triples"
   ]
  },
  {
   "cell_type": "code",
   "execution_count": null,
   "metadata": {},
   "outputs": [],
   "source": []
  },
  {
   "cell_type": "markdown",
   "metadata": {},
   "source": [
    "## 6. Final triples are loaded to VIVO"
   ]
  },
  {
   "cell_type": "code",
   "execution_count": null,
   "metadata": {},
   "outputs": [],
   "source": []
  }
 ],
 "metadata": {
  "kernelspec": {
   "display_name": "Python 3",
   "language": "python",
   "name": "python3"
  },
  "language_info": {
   "codemirror_mode": {
    "name": "ipython",
    "version": 3
   },
   "file_extension": ".py",
   "mimetype": "text/x-python",
   "name": "python",
   "nbconvert_exporter": "python",
   "pygments_lexer": "ipython3",
   "version": "3.8.3"
  }
 },
 "nbformat": 4,
 "nbformat_minor": 4
}
